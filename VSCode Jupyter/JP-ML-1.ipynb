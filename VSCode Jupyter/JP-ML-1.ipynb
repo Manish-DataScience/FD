{
 "metadata": {
  "language_info": {
   "codemirror_mode": {
    "name": "ipython",
    "version": 3
   },
   "file_extension": ".py",
   "mimetype": "text/x-python",
   "name": "python",
   "nbconvert_exporter": "python",
   "pygments_lexer": "ipython3",
   "version": "3.8.8"
  },
  "orig_nbformat": 2,
  "kernelspec": {
   "name": "python388jvsc74a57bd0ae1cb01f01beadbe4bb2f5a28c5ec9e8774b46b1ed8ca8f5ed4cffb7f9235c53",
   "display_name": "Python 3.8.8 64-bit (conda)"
  }
 },
 "nbformat": 4,
 "nbformat_minor": 2,
 "cells": [
  {
   "source": [
    "import matplotlib.pyplot as plt\n",
    "import numpy as np\n",
    "import pandas as pd\n",
    "import seaborn as sns\n",
    "from sklearn import datasets\n",
    "from sklearn import manifold\n"
   ],
   "cell_type": "code",
   "metadata": {},
   "execution_count": null,
   "outputs": []
  },
  {
   "cell_type": "code",
   "execution_count": null,
   "metadata": {},
   "outputs": [],
   "source": [
    "%matplotlib inline"
   ]
  },
  {
   "cell_type": "code",
   "execution_count": null,
   "metadata": {},
   "outputs": [],
   "source": [
    "data = datasets.fetch_openml(\n",
    " 'mnist_784', \n",
    " version=1, \n",
    " return_X_y=True\n",
    ")\n",
    "pixel_values, targets = data\n",
    "targets = targets.astype(int)"
   ]
  },
  {
   "cell_type": "code",
   "execution_count": null,
   "metadata": {},
   "outputs": [],
   "source": [
    "#single_image = single_image / 255\r\n",
    "#np.squeeze(single_image, axis=1)\r\n",
    "#pixel_values = pixel_values.astype('int')\r\n",
    "#np_single_image = single_image.reshape(pixel_values.shape[1, :])"
   ]
  },
  {
   "cell_type": "code",
   "execution_count": 73,
   "metadata": {},
   "outputs": [
    {
     "output_type": "stream",
     "name": "stdout",
     "text": [
      "shape value 70000\n[[[[0.]\n   [0.]\n   [0.]\n   ...\n   [0.]\n   [0.]\n   [0.]]\n\n  [[0.]\n   [0.]\n   [0.]\n   ...\n   [0.]\n   [0.]\n   [0.]]\n\n  [[0.]\n   [0.]\n   [0.]\n   ...\n   [0.]\n   [0.]\n   [0.]]\n\n  ...\n\n  [[0.]\n   [0.]\n   [0.]\n   ...\n   [0.]\n   [0.]\n   [0.]]\n\n  [[0.]\n   [0.]\n   [0.]\n   ...\n   [0.]\n   [0.]\n   [0.]]\n\n  [[0.]\n   [0.]\n   [0.]\n   ...\n   [0.]\n   [0.]\n   [0.]]]\n\n\n [[[0.]\n   [0.]\n   [0.]\n   ...\n   [0.]\n   [0.]\n   [0.]]\n\n  [[0.]\n   [0.]\n   [0.]\n   ...\n   [0.]\n   [0.]\n   [0.]]\n\n  [[0.]\n   [0.]\n   [0.]\n   ...\n   [0.]\n   [0.]\n   [0.]]\n\n  ...\n\n  [[0.]\n   [0.]\n   [0.]\n   ...\n   [0.]\n   [0.]\n   [0.]]\n\n  [[0.]\n   [0.]\n   [0.]\n   ...\n   [0.]\n   [0.]\n   [0.]]\n\n  [[0.]\n   [0.]\n   [0.]\n   ...\n   [0.]\n   [0.]\n   [0.]]]\n\n\n [[[0.]\n   [0.]\n   [0.]\n   ...\n   [0.]\n   [0.]\n   [0.]]\n\n  [[0.]\n   [0.]\n   [0.]\n   ...\n   [0.]\n   [0.]\n   [0.]]\n\n  [[0.]\n   [0.]\n   [0.]\n   ...\n   [0.]\n   [0.]\n   [0.]]\n\n  ...\n\n  [[0.]\n   [0.]\n   [0.]\n   ...\n   [0.]\n   [0.]\n   [0.]]\n\n  [[0.]\n   [0.]\n   [0.]\n   ...\n   [0.]\n   [0.]\n   [0.]]\n\n  [[0.]\n   [0.]\n   [0.]\n   ...\n   [0.]\n   [0.]\n   [0.]]]\n\n\n ...\n\n\n [[[0.]\n   [0.]\n   [0.]\n   ...\n   [0.]\n   [0.]\n   [0.]]\n\n  [[0.]\n   [0.]\n   [0.]\n   ...\n   [0.]\n   [0.]\n   [0.]]\n\n  [[0.]\n   [0.]\n   [0.]\n   ...\n   [0.]\n   [0.]\n   [0.]]\n\n  ...\n\n  [[0.]\n   [0.]\n   [0.]\n   ...\n   [0.]\n   [0.]\n   [0.]]\n\n  [[0.]\n   [0.]\n   [0.]\n   ...\n   [0.]\n   [0.]\n   [0.]]\n\n  [[0.]\n   [0.]\n   [0.]\n   ...\n   [0.]\n   [0.]\n   [0.]]]\n\n\n [[[0.]\n   [0.]\n   [0.]\n   ...\n   [0.]\n   [0.]\n   [0.]]\n\n  [[0.]\n   [0.]\n   [0.]\n   ...\n   [0.]\n   [0.]\n   [0.]]\n\n  [[0.]\n   [0.]\n   [0.]\n   ...\n   [0.]\n   [0.]\n   [0.]]\n\n  ...\n\n  [[0.]\n   [0.]\n   [0.]\n   ...\n   [0.]\n   [0.]\n   [0.]]\n\n  [[0.]\n   [0.]\n   [0.]\n   ...\n   [0.]\n   [0.]\n   [0.]]\n\n  [[0.]\n   [0.]\n   [0.]\n   ...\n   [0.]\n   [0.]\n   [0.]]]\n\n\n [[[0.]\n   [0.]\n   [0.]\n   ...\n   [0.]\n   [0.]\n   [0.]]\n\n  [[0.]\n   [0.]\n   [0.]\n   ...\n   [0.]\n   [0.]\n   [0.]]\n\n  [[0.]\n   [0.]\n   [0.]\n   ...\n   [0.]\n   [0.]\n   [0.]]\n\n  ...\n\n  [[0.]\n   [0.]\n   [0.]\n   ...\n   [0.]\n   [0.]\n   [0.]]\n\n  [[0.]\n   [0.]\n   [0.]\n   ...\n   [0.]\n   [0.]\n   [0.]]\n\n  [[0.]\n   [0.]\n   [0.]\n   ...\n   [0.]\n   [0.]\n   [0.]]]]\n"
     ]
    }
   ],
   "source": [
    "#print(pixel_values)\n",
    "#Manish - Need to understand difference btween dataframe and conversion to numpy\n",
    "single_image = pixel_values.to_numpy()\n",
    "#print('conversion to numpy', single_image)\n",
    "#print('shape value', pixel_values.shape[0]) -> This is 70000 images of 28*28 size giving 784 datapoints\n",
    "# reshape to be [samples][width][height][channels]\n",
    "single_image = single_image.reshape(pixel_values.shape[0], 28, 28, 1).astype('float32')\n",
    "#print(single_image)\n",
    "\n"
   ]
  },
  {
   "cell_type": "code",
   "execution_count": 74,
   "metadata": {},
   "outputs": [
    {
     "output_type": "execute_result",
     "data": {
      "text/plain": [
       "<matplotlib.image.AxesImage at 0x254155e9fa0>"
      ]
     },
     "metadata": {},
     "execution_count": 74
    },
    {
     "output_type": "display_data",
     "data": {
      "text/plain": "<Figure size 432x288 with 1 Axes>",
      "image/svg+xml": "<?xml version=\"1.0\" encoding=\"utf-8\" standalone=\"no\"?>\r\n<!DOCTYPE svg PUBLIC \"-//W3C//DTD SVG 1.1//EN\"\r\n  \"http://www.w3.org/Graphics/SVG/1.1/DTD/svg11.dtd\">\r\n<!-- Created with matplotlib (https://matplotlib.org/) -->\r\n<svg height=\"248.518125pt\" version=\"1.1\" viewBox=\"0 0 251.565 248.518125\" width=\"251.565pt\" xmlns=\"http://www.w3.org/2000/svg\" xmlns:xlink=\"http://www.w3.org/1999/xlink\">\r\n <metadata>\r\n  <rdf:RDF xmlns:cc=\"http://creativecommons.org/ns#\" xmlns:dc=\"http://purl.org/dc/elements/1.1/\" xmlns:rdf=\"http://www.w3.org/1999/02/22-rdf-syntax-ns#\">\r\n   <cc:Work>\r\n    <dc:type rdf:resource=\"http://purl.org/dc/dcmitype/StillImage\"/>\r\n    <dc:date>2021-05-28T21:10:51.336666</dc:date>\r\n    <dc:format>image/svg+xml</dc:format>\r\n    <dc:creator>\r\n     <cc:Agent>\r\n      <dc:title>Matplotlib v3.3.4, https://matplotlib.org/</dc:title>\r\n     </cc:Agent>\r\n    </dc:creator>\r\n   </cc:Work>\r\n  </rdf:RDF>\r\n </metadata>\r\n <defs>\r\n  <style type=\"text/css\">*{stroke-linecap:butt;stroke-linejoin:round;}</style>\r\n </defs>\r\n <g id=\"figure_1\">\r\n  <g id=\"patch_1\">\r\n   <path d=\"M 0 248.518125 \r\nL 251.565 248.518125 \r\nL 251.565 0 \r\nL 0 0 \r\nz\r\n\" style=\"fill:none;\"/>\r\n  </g>\r\n  <g id=\"axes_1\">\r\n   <g id=\"patch_2\">\r\n    <path d=\"M 26.925 224.64 \r\nL 244.365 224.64 \r\nL 244.365 7.2 \r\nL 26.925 7.2 \r\nz\r\n\" style=\"fill:#ffffff;\"/>\r\n   </g>\r\n   <g clip-path=\"url(#p6d9599a589)\">\r\n    <image height=\"218\" id=\"imageef221ff6fa\" transform=\"scale(1 -1)translate(0 -218)\" width=\"218\" x=\"26.925\" xlink:href=\"data:image/png;base64,\r\niVBORw0KGgoAAAANSUhEUgAAANoAAADaCAYAAADAHVzbAAAFXElEQVR4nO3dvY9MfRzG4TMiXgoSlQQlsomEQhTUJJRqCpGNFZVCovJviGQTBR2Nhk6CxgqFl4SlINmVyDaCgkZ2nvpJnvMds2buM7PPdbV3jv01H79kT2a21zRNvwHGakPXB4D/A6FBgNAgQGgQIDQIEBoECA0ChAYBQoMAoUGA0CBAaBAgNAgQGgQIDQKEBgFCgwChQYDQIEBoECA0CBAaBGzs+gBMlnPnzpX7zZs3y31+fr7c5+bmhj3SuuBGgwChQYDQIEBoECA0CBAaBAgNArxH419OnTpV7r1eL3SS9cWNBgFCgwChQYDQIEBoECA0CBAaBHiPxlD6/X7XR5hKbjQIEBoECA0ChAYBQoMAoUGA0CDAezRG6unTp10fYSK50SBAaBAgNAgQGgQIDQKEBgFCgwDv0RjKoO91XF1dDZ1kurjRIEBoECA0CBAaBAgNAoQGAX69z1AGfd3chw8fQieZLm40CBAaBAgNAoQGAUKDAKFBgNAgQGgQIDQIEBoECA0ChAYBQoMAoUGA0CDA59EYqdOnT5f7wsJC6CSTxY0GAUKDAKFBgNAgQGgQIDQIEBoE9Jqmqb+ob4yuXr1a7seOHQudZHj37t0r93fv3rVuk/wu6cKFC+V+48aNcv/48WO57927d+gzrQduNAgQGgQIDQKEBgFCgwChQcBYf71//fr1cp+bmyv3b9++lfvS0tKwR/pjBw8eLPder1fuv3//bt1+/vxZPvv27dtyf/bsWbm/ePGi3B8/fty6rayslM9+/vy53Hfs2FHumzZtKvf1yo0GAUKDAKFBgNAgQGgQIDQIEBoEjPXr5rZu3Vrug95FXbx4sdzv3r079Jn+1KFDh8p90NmPHz/euu3Zs6d8dtC7pvPnz5f77Oxsuf/69at1G/SObsuWLeW+YUP9f/fMzEzrtri4WD47zdxoECA0CBAaBAgNAoQGAUKDAKFBwET/2aavX7929rNfvXr1V8+/fPlyNAf5D5cuXSr37du3l/vJkydbt7Nnz5bPbt68udwHvUc7fPhw6+Y9GvBXhAYBQoMAoUGA0CBAaBAgNAiY6PdoR44cKfeHDx+GTjJdfvz4Ue537txZ09Y0TXP79u1yP3PmTLlfu3atdbt//3757KDv+ZxkbjQIEBoECA0ChAYBQoMAoUGA0CBgrO/R3r9//1fPHzhwYEQnYVSuXLlS7tX3WTZN0+zfv79127ZtW/ms92hASWgQIDQIEBoECA0ChAYBY/31/oMHD8q9+sgEk2llZaXcP336VO47d+5s3Xbv3l0+u7y8XO6TzI0GAUKDAKFBgNAgQGgQIDQIEBoEjPU92uvXr8t90DsZps/379/X/OyJEyfKfWFhYc3/dtfcaBAgNAgQGgQIDQKEBgFCgwChQUCnf7ZpdXW1yx/PGMzOzpZ79Zmyffv2jfo4E8ONBgFCgwChQYDQIEBoECA0CBAaBHT6Hu3WrVvlvp7fq6xXX758Kff5+fnW7ejRo+WzMzMz5b64uFjuXXKjQYDQIEBoECA0CBAaBAgNAoQGAZ2+R3v06FG5v3nzJnMQRmbQZwyrv5+2a9eu8tl+v7+mM00CNxoECA0ChAYBQoMAoUGA0CCg01/vP3nypMsfTweeP3/eul2+fDl3kDA3GgQIDQKEBgFCgwChQYDQIEBoENBrmmZ6P3sAU8KNBgFCgwChQYDQIEBoECA0CBAaBAgNAoQGAUKDAKFBgNAgQGgQIDQIEBoECA0ChAYBQoMAoUGA0CBAaBAgNAgQGgQIDQKEBgFCgwChQYDQIEBoECA0CBAaBAgNAoQGAUKDAKFBgNAgQGgQIDQI+AduEMEuWRku7QAAAABJRU5ErkJggg==\" y=\"-6.64\"/>\r\n   </g>\r\n   <g id=\"matplotlib.axis_1\">\r\n    <g id=\"xtick_1\">\r\n     <g id=\"line2d_1\">\r\n      <defs>\r\n       <path d=\"M 0 0 \r\nL 0 3.5 \r\n\" id=\"m840ce808ab\" style=\"stroke:#000000;stroke-width:0.8;\"/>\r\n      </defs>\r\n      <g>\r\n       <use style=\"stroke:#000000;stroke-width:0.8;\" x=\"30.807857\" xlink:href=\"#m840ce808ab\" y=\"224.64\"/>\r\n      </g>\r\n     </g>\r\n     <g id=\"text_1\">\r\n      <!-- 0 -->\r\n      <g transform=\"translate(27.626607 239.238437)scale(0.1 -0.1)\">\r\n       <defs>\r\n        <path d=\"M 31.78125 66.40625 \r\nQ 24.171875 66.40625 20.328125 58.90625 \r\nQ 16.5 51.421875 16.5 36.375 \r\nQ 16.5 21.390625 20.328125 13.890625 \r\nQ 24.171875 6.390625 31.78125 6.390625 \r\nQ 39.453125 6.390625 43.28125 13.890625 \r\nQ 47.125 21.390625 47.125 36.375 \r\nQ 47.125 51.421875 43.28125 58.90625 \r\nQ 39.453125 66.40625 31.78125 66.40625 \r\nz\r\nM 31.78125 74.21875 \r\nQ 44.046875 74.21875 50.515625 64.515625 \r\nQ 56.984375 54.828125 56.984375 36.375 \r\nQ 56.984375 17.96875 50.515625 8.265625 \r\nQ 44.046875 -1.421875 31.78125 -1.421875 \r\nQ 19.53125 -1.421875 13.0625 8.265625 \r\nQ 6.59375 17.96875 6.59375 36.375 \r\nQ 6.59375 54.828125 13.0625 64.515625 \r\nQ 19.53125 74.21875 31.78125 74.21875 \r\nz\r\n\" id=\"DejaVuSans-48\"/>\r\n       </defs>\r\n       <use xlink:href=\"#DejaVuSans-48\"/>\r\n      </g>\r\n     </g>\r\n    </g>\r\n    <g id=\"xtick_2\">\r\n     <g id=\"line2d_2\">\r\n      <g>\r\n       <use style=\"stroke:#000000;stroke-width:0.8;\" x=\"69.636429\" xlink:href=\"#m840ce808ab\" y=\"224.64\"/>\r\n      </g>\r\n     </g>\r\n     <g id=\"text_2\">\r\n      <!-- 5 -->\r\n      <g transform=\"translate(66.455179 239.238437)scale(0.1 -0.1)\">\r\n       <defs>\r\n        <path d=\"M 10.796875 72.90625 \r\nL 49.515625 72.90625 \r\nL 49.515625 64.59375 \r\nL 19.828125 64.59375 \r\nL 19.828125 46.734375 \r\nQ 21.96875 47.46875 24.109375 47.828125 \r\nQ 26.265625 48.1875 28.421875 48.1875 \r\nQ 40.625 48.1875 47.75 41.5 \r\nQ 54.890625 34.8125 54.890625 23.390625 \r\nQ 54.890625 11.625 47.5625 5.09375 \r\nQ 40.234375 -1.421875 26.90625 -1.421875 \r\nQ 22.3125 -1.421875 17.546875 -0.640625 \r\nQ 12.796875 0.140625 7.71875 1.703125 \r\nL 7.71875 11.625 \r\nQ 12.109375 9.234375 16.796875 8.0625 \r\nQ 21.484375 6.890625 26.703125 6.890625 \r\nQ 35.15625 6.890625 40.078125 11.328125 \r\nQ 45.015625 15.765625 45.015625 23.390625 \r\nQ 45.015625 31 40.078125 35.4375 \r\nQ 35.15625 39.890625 26.703125 39.890625 \r\nQ 22.75 39.890625 18.8125 39.015625 \r\nQ 14.890625 38.140625 10.796875 36.28125 \r\nz\r\n\" id=\"DejaVuSans-53\"/>\r\n       </defs>\r\n       <use xlink:href=\"#DejaVuSans-53\"/>\r\n      </g>\r\n     </g>\r\n    </g>\r\n    <g id=\"xtick_3\">\r\n     <g id=\"line2d_3\">\r\n      <g>\r\n       <use style=\"stroke:#000000;stroke-width:0.8;\" x=\"108.465\" xlink:href=\"#m840ce808ab\" y=\"224.64\"/>\r\n      </g>\r\n     </g>\r\n     <g id=\"text_3\">\r\n      <!-- 10 -->\r\n      <g transform=\"translate(102.1025 239.238437)scale(0.1 -0.1)\">\r\n       <defs>\r\n        <path d=\"M 12.40625 8.296875 \r\nL 28.515625 8.296875 \r\nL 28.515625 63.921875 \r\nL 10.984375 60.40625 \r\nL 10.984375 69.390625 \r\nL 28.421875 72.90625 \r\nL 38.28125 72.90625 \r\nL 38.28125 8.296875 \r\nL 54.390625 8.296875 \r\nL 54.390625 0 \r\nL 12.40625 0 \r\nz\r\n\" id=\"DejaVuSans-49\"/>\r\n       </defs>\r\n       <use xlink:href=\"#DejaVuSans-49\"/>\r\n       <use x=\"63.623047\" xlink:href=\"#DejaVuSans-48\"/>\r\n      </g>\r\n     </g>\r\n    </g>\r\n    <g id=\"xtick_4\">\r\n     <g id=\"line2d_4\">\r\n      <g>\r\n       <use style=\"stroke:#000000;stroke-width:0.8;\" x=\"147.293571\" xlink:href=\"#m840ce808ab\" y=\"224.64\"/>\r\n      </g>\r\n     </g>\r\n     <g id=\"text_4\">\r\n      <!-- 15 -->\r\n      <g transform=\"translate(140.931071 239.238437)scale(0.1 -0.1)\">\r\n       <use xlink:href=\"#DejaVuSans-49\"/>\r\n       <use x=\"63.623047\" xlink:href=\"#DejaVuSans-53\"/>\r\n      </g>\r\n     </g>\r\n    </g>\r\n    <g id=\"xtick_5\">\r\n     <g id=\"line2d_5\">\r\n      <g>\r\n       <use style=\"stroke:#000000;stroke-width:0.8;\" x=\"186.122143\" xlink:href=\"#m840ce808ab\" y=\"224.64\"/>\r\n      </g>\r\n     </g>\r\n     <g id=\"text_5\">\r\n      <!-- 20 -->\r\n      <g transform=\"translate(179.759643 239.238437)scale(0.1 -0.1)\">\r\n       <defs>\r\n        <path d=\"M 19.1875 8.296875 \r\nL 53.609375 8.296875 \r\nL 53.609375 0 \r\nL 7.328125 0 \r\nL 7.328125 8.296875 \r\nQ 12.9375 14.109375 22.625 23.890625 \r\nQ 32.328125 33.6875 34.8125 36.53125 \r\nQ 39.546875 41.84375 41.421875 45.53125 \r\nQ 43.3125 49.21875 43.3125 52.78125 \r\nQ 43.3125 58.59375 39.234375 62.25 \r\nQ 35.15625 65.921875 28.609375 65.921875 \r\nQ 23.96875 65.921875 18.8125 64.3125 \r\nQ 13.671875 62.703125 7.8125 59.421875 \r\nL 7.8125 69.390625 \r\nQ 13.765625 71.78125 18.9375 73 \r\nQ 24.125 74.21875 28.421875 74.21875 \r\nQ 39.75 74.21875 46.484375 68.546875 \r\nQ 53.21875 62.890625 53.21875 53.421875 \r\nQ 53.21875 48.921875 51.53125 44.890625 \r\nQ 49.859375 40.875 45.40625 35.40625 \r\nQ 44.1875 33.984375 37.640625 27.21875 \r\nQ 31.109375 20.453125 19.1875 8.296875 \r\nz\r\n\" id=\"DejaVuSans-50\"/>\r\n       </defs>\r\n       <use xlink:href=\"#DejaVuSans-50\"/>\r\n       <use x=\"63.623047\" xlink:href=\"#DejaVuSans-48\"/>\r\n      </g>\r\n     </g>\r\n    </g>\r\n    <g id=\"xtick_6\">\r\n     <g id=\"line2d_6\">\r\n      <g>\r\n       <use style=\"stroke:#000000;stroke-width:0.8;\" x=\"224.950714\" xlink:href=\"#m840ce808ab\" y=\"224.64\"/>\r\n      </g>\r\n     </g>\r\n     <g id=\"text_6\">\r\n      <!-- 25 -->\r\n      <g transform=\"translate(218.588214 239.238437)scale(0.1 -0.1)\">\r\n       <use xlink:href=\"#DejaVuSans-50\"/>\r\n       <use x=\"63.623047\" xlink:href=\"#DejaVuSans-53\"/>\r\n      </g>\r\n     </g>\r\n    </g>\r\n   </g>\r\n   <g id=\"matplotlib.axis_2\">\r\n    <g id=\"ytick_1\">\r\n     <g id=\"line2d_7\">\r\n      <defs>\r\n       <path d=\"M 0 0 \r\nL -3.5 0 \r\n\" id=\"ma8c83f0d50\" style=\"stroke:#000000;stroke-width:0.8;\"/>\r\n      </defs>\r\n      <g>\r\n       <use style=\"stroke:#000000;stroke-width:0.8;\" x=\"26.925\" xlink:href=\"#ma8c83f0d50\" y=\"11.082857\"/>\r\n      </g>\r\n     </g>\r\n     <g id=\"text_7\">\r\n      <!-- 0 -->\r\n      <g transform=\"translate(13.5625 14.882076)scale(0.1 -0.1)\">\r\n       <use xlink:href=\"#DejaVuSans-48\"/>\r\n      </g>\r\n     </g>\r\n    </g>\r\n    <g id=\"ytick_2\">\r\n     <g id=\"line2d_8\">\r\n      <g>\r\n       <use style=\"stroke:#000000;stroke-width:0.8;\" x=\"26.925\" xlink:href=\"#ma8c83f0d50\" y=\"49.911429\"/>\r\n      </g>\r\n     </g>\r\n     <g id=\"text_8\">\r\n      <!-- 5 -->\r\n      <g transform=\"translate(13.5625 53.710647)scale(0.1 -0.1)\">\r\n       <use xlink:href=\"#DejaVuSans-53\"/>\r\n      </g>\r\n     </g>\r\n    </g>\r\n    <g id=\"ytick_3\">\r\n     <g id=\"line2d_9\">\r\n      <g>\r\n       <use style=\"stroke:#000000;stroke-width:0.8;\" x=\"26.925\" xlink:href=\"#ma8c83f0d50\" y=\"88.74\"/>\r\n      </g>\r\n     </g>\r\n     <g id=\"text_9\">\r\n      <!-- 10 -->\r\n      <g transform=\"translate(7.2 92.539219)scale(0.1 -0.1)\">\r\n       <use xlink:href=\"#DejaVuSans-49\"/>\r\n       <use x=\"63.623047\" xlink:href=\"#DejaVuSans-48\"/>\r\n      </g>\r\n     </g>\r\n    </g>\r\n    <g id=\"ytick_4\">\r\n     <g id=\"line2d_10\">\r\n      <g>\r\n       <use style=\"stroke:#000000;stroke-width:0.8;\" x=\"26.925\" xlink:href=\"#ma8c83f0d50\" y=\"127.568571\"/>\r\n      </g>\r\n     </g>\r\n     <g id=\"text_10\">\r\n      <!-- 15 -->\r\n      <g transform=\"translate(7.2 131.36779)scale(0.1 -0.1)\">\r\n       <use xlink:href=\"#DejaVuSans-49\"/>\r\n       <use x=\"63.623047\" xlink:href=\"#DejaVuSans-53\"/>\r\n      </g>\r\n     </g>\r\n    </g>\r\n    <g id=\"ytick_5\">\r\n     <g id=\"line2d_11\">\r\n      <g>\r\n       <use style=\"stroke:#000000;stroke-width:0.8;\" x=\"26.925\" xlink:href=\"#ma8c83f0d50\" y=\"166.397143\"/>\r\n      </g>\r\n     </g>\r\n     <g id=\"text_11\">\r\n      <!-- 20 -->\r\n      <g transform=\"translate(7.2 170.196362)scale(0.1 -0.1)\">\r\n       <use xlink:href=\"#DejaVuSans-50\"/>\r\n       <use x=\"63.623047\" xlink:href=\"#DejaVuSans-48\"/>\r\n      </g>\r\n     </g>\r\n    </g>\r\n    <g id=\"ytick_6\">\r\n     <g id=\"line2d_12\">\r\n      <g>\r\n       <use style=\"stroke:#000000;stroke-width:0.8;\" x=\"26.925\" xlink:href=\"#ma8c83f0d50\" y=\"205.225714\"/>\r\n      </g>\r\n     </g>\r\n     <g id=\"text_12\">\r\n      <!-- 25 -->\r\n      <g transform=\"translate(7.2 209.024933)scale(0.1 -0.1)\">\r\n       <use xlink:href=\"#DejaVuSans-50\"/>\r\n       <use x=\"63.623047\" xlink:href=\"#DejaVuSans-53\"/>\r\n      </g>\r\n     </g>\r\n    </g>\r\n   </g>\r\n   <g id=\"patch_3\">\r\n    <path d=\"M 26.925 224.64 \r\nL 26.925 7.2 \r\n\" style=\"fill:none;stroke:#000000;stroke-linecap:square;stroke-linejoin:miter;stroke-width:0.8;\"/>\r\n   </g>\r\n   <g id=\"patch_4\">\r\n    <path d=\"M 244.365 224.64 \r\nL 244.365 7.2 \r\n\" style=\"fill:none;stroke:#000000;stroke-linecap:square;stroke-linejoin:miter;stroke-width:0.8;\"/>\r\n   </g>\r\n   <g id=\"patch_5\">\r\n    <path d=\"M 26.925 224.64 \r\nL 244.365 224.64 \r\n\" style=\"fill:none;stroke:#000000;stroke-linecap:square;stroke-linejoin:miter;stroke-width:0.8;\"/>\r\n   </g>\r\n   <g id=\"patch_6\">\r\n    <path d=\"M 26.925 7.2 \r\nL 244.365 7.2 \r\n\" style=\"fill:none;stroke:#000000;stroke-linecap:square;stroke-linejoin:miter;stroke-width:0.8;\"/>\r\n   </g>\r\n  </g>\r\n </g>\r\n <defs>\r\n  <clipPath id=\"p6d9599a589\">\r\n   <rect height=\"217.44\" width=\"217.44\" x=\"26.925\" y=\"7.2\"/>\r\n  </clipPath>\r\n </defs>\r\n</svg>\r\n",
      "image/png": "[encoded data removed]"
     },
     "metadata": {
      "needs_background": "light"
     }
    }
   ],
   "source": [
    "\n",
    "plt.imshow(single_image[2, :], cmap='gray')"
   ]
  },
  {
   "cell_type": "code",
   "execution_count": null,
   "metadata": {},
   "outputs": [],
   "source": []
  }
 ]
}