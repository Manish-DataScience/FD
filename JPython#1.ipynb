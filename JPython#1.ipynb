{
 "cells": [
  {
   "cell_type": "code",
   "execution_count": 1,
   "id": "cd86d558",
   "metadata": {},
   "outputs": [],
   "source": [
    "#Plotting libraries\n",
    "import matplotlib.pyplot as plt\n",
    "import seaborn as sns\n",
    "\n",
    "#Numercial Arrays for calculation\n",
    "import numpy as np\n",
    "\n",
    "#create dataframes from Numerical Arrays\n",
    "import pandas as pd\n",
    "\n",
    "\n",
    "#pronunced as sklearn\n",
    "from sklearn import datasets\n",
    "from sklearn import manifold\n",
    "\n",
    "%matplotlib inline"
   ]
  },
  {
   "cell_type": "code",
   "execution_count": null,
   "id": "87472520",
   "metadata": {},
   "outputs": [],
   "source": [
    "data = datasets.fetch_openml(\n",
    " 'mnist_784', \n",
    " version=1, \n",
    " return_X_y=True\n",
    ")\n",
    "# Define 2-D array for storing pixel value\n",
    "pixel_values\n",
    "targets = data\n",
    "#convert data from string to int\n",
    "targets = targets.astype(int)\n",
    "\n",
    "single_image = pixel_values[1, :].reshape(28,28)\n",
    "\n",
    "plt.imshow(single_image,cmap='gray')"
   ]
  },
  {
   "cell_type": "code",
   "execution_count": null,
   "id": "a22c7e42",
   "metadata": {},
   "outputs": [],
   "source": []
  },
  {
   "cell_type": "code",
   "execution_count": null,
   "id": "cd52a343",
   "metadata": {},
   "outputs": [],
   "source": []
  }
 ],
 "metadata": {
  "kernelspec": {
   "display_name": "Python 3",
   "language": "python",
   "name": "python3"
  },
  "language_info": {
   "codemirror_mode": {
    "name": "ipython",
    "version": 3
   },
   "file_extension": ".py",
   "mimetype": "text/x-python",
   "name": "python",
   "nbconvert_exporter": "python",
   "pygments_lexer": "ipython3",
   "version": "3.8.8"
  }
 },
 "nbformat": 4,
 "nbformat_minor": 5
}
